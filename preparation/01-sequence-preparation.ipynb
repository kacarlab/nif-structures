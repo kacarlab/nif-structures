{
 "cells": [
  {
   "cell_type": "markdown",
   "metadata": {},
   "source": [
    "# 01 - Sequence preparation \n",
    "\n",
    "## Summary\n",
    "\n",
    "In this notebook, we are preparing the sequences for massive-structure prediction. In principle, we will simulate almost 3k structures; this means that we will have to perform certain optimizations to both speed up our process and also to avoid being IP blocked by the MMSeqs2 server.\n",
    "\n",
    "We have the following groups of sequences:\n",
    "- all extant seqs in tree, n = 385\n",
    "- \"_map\" anc seqs (most probable), n = 384\n",
    "- \"_altall\" anc seqs (next best res at ambiguous sites), n = 384\n",
    "- \"_alt2\" to \"_alt5\" anc seqs (random sampled res at ambiguous sites), n = 1536\n",
    "\n",
    "For the all extant, there is not much to do apart from just send them sequencially or using the HH-suite/local MMseqs2 solutions that I have failed so far to deliver. For the ancestors, we will group them by parent sequence, so we will be able to re-utilize the initial MMSeqs2 search."
   ]
  },
  {
   "cell_type": "markdown",
   "metadata": {},
   "source": [
    "# Methods"
   ]
  },
  {
   "cell_type": "code",
   "execution_count": 1,
   "metadata": {},
   "outputs": [],
   "source": [
    "import pandas as pd\n",
    "from Bio import AlignIO as alio\n",
    "from Bio import SeqIO as sqio\n",
    "import subprocess\n",
    "import tqdm\n",
    "import numpy as np\n",
    "import tarfile\n",
    "import os"
   ]
  },
  {
   "cell_type": "code",
   "execution_count": 2,
   "metadata": {},
   "outputs": [],
   "source": [
    "def alignment_to_table(file):\n",
    "    out = []\n",
    "    for seq in alio.read(open(file), 'fasta'):\n",
    "        out.append(dict(id=seq.id, seq=str(seq.seq).replace('-', '')))\n",
    "    return pd.DataFrame.from_records(out)\n",
    "    "
   ]
  },
  {
   "cell_type": "code",
   "execution_count": 3,
   "metadata": {},
   "outputs": [],
   "source": [
    "aln_D = alignment_to_table('../sequences/AGNifAlign105.ext-anc.alt.D.fasta')\n",
    "aln_K = alignment_to_table('../sequences/AGNifAlign105.ext-anc.alt.K.fasta')\n",
    "aln_H = alignment_to_table('../sequences/AGNifAlign105.ext-anc.alt.H.fasta')"
   ]
  },
  {
   "cell_type": "code",
   "execution_count": 4,
   "metadata": {},
   "outputs": [
    {
     "data": {
      "text/html": [
       "<div>\n",
       "<style scoped>\n",
       "    .dataframe tbody tr th:only-of-type {\n",
       "        vertical-align: middle;\n",
       "    }\n",
       "\n",
       "    .dataframe tbody tr th {\n",
       "        vertical-align: top;\n",
       "    }\n",
       "\n",
       "    .dataframe thead th {\n",
       "        text-align: right;\n",
       "    }\n",
       "</style>\n",
       "<table border=\"1\" class=\"dataframe\">\n",
       "  <thead>\n",
       "    <tr style=\"text-align: right;\">\n",
       "      <th></th>\n",
       "      <th>id</th>\n",
       "      <th>seq_D</th>\n",
       "      <th>seq_K</th>\n",
       "      <th>seq_H</th>\n",
       "    </tr>\n",
       "  </thead>\n",
       "  <tbody>\n",
       "    <tr>\n",
       "      <th>0</th>\n",
       "      <td>1207_alt4</td>\n",
       "      <td>MSKKEEKEELIEEILDVYPEKARKNREKHIAVNDPDSGQCAVKSNV...</td>\n",
       "      <td>ASKEEVEKVLEWTKTEEYKEKNFKRKALVINPAKACQPLGAVLAAL...</td>\n",
       "      <td>MRQIAIYGKGGIGKSTTTQNTVAALAEMGKKIMIVGCDPKADSTRL...</td>\n",
       "    </tr>\n",
       "    <tr>\n",
       "      <th>1</th>\n",
       "      <td>1207_alt5</td>\n",
       "      <td>MSENEERKEIIEEVLEVYPEKARKNRKKHLAVNDPDAASCAVKSNV...</td>\n",
       "      <td>ASAEEVQKVKDWTNTEEYKEKNFKRKALVINPAKACQPLGAVLAAL...</td>\n",
       "      <td>MRQIAIYGKGGIGKSTTTQNTVAALAEMGKKVMIVGCDPKADSTRL...</td>\n",
       "    </tr>\n",
       "    <tr>\n",
       "      <th>2</th>\n",
       "      <td>1207_map</td>\n",
       "      <td>MSEKEETQKLIEEVLEVYPEKARKNRKKHIAVNDPEASSCAVKSNV...</td>\n",
       "      <td>CTKEEVEKVADWTNTEEYKEKNFKRKALVINPAKACQPLGAVLAAL...</td>\n",
       "      <td>MRQIAIYGKGGIGKSTTTQNTVAALAEMGKKVMIVGCDPKADSTRL...</td>\n",
       "    </tr>\n",
       "    <tr>\n",
       "      <th>3</th>\n",
       "      <td>1207_alt2</td>\n",
       "      <td>MSEDEQSKKLVEEVLNVYPEKARKNRAKHVAVNDPDAGSCVVKSNV...</td>\n",
       "      <td>HTPEEVERVKDWTNTEEYKEKNFARKALVINPAKACQPLGAMLAAL...</td>\n",
       "      <td>MRQIAIYGKGGIGKSTTTQNTVAALAEMGKKVMIVGCDPKADSTRL...</td>\n",
       "    </tr>\n",
       "    <tr>\n",
       "      <th>4</th>\n",
       "      <td>1207_alt3</td>\n",
       "      <td>MSTKEQTQKIVEEVLEIYPEKARKNRRKHLAVNDPGANSCSVKSNV...</td>\n",
       "      <td>HTKEEVQEVAEWTNTEEYKEKNFARKALVINPAKACQPLGALLAAL...</td>\n",
       "      <td>MRQIAIYGKGGIGKSTTTQNTVAALAEMGKKVMIVGCDPKADSTRL...</td>\n",
       "    </tr>\n",
       "    <tr>\n",
       "      <th>...</th>\n",
       "      <td>...</td>\n",
       "      <td>...</td>\n",
       "      <td>...</td>\n",
       "      <td>...</td>\n",
       "    </tr>\n",
       "    <tr>\n",
       "      <th>2684</th>\n",
       "      <td>Nif_archaeon_BMS3Bbin15</td>\n",
       "      <td>MLLKCDKTIPERKKHIVIKGENGCGGDSSGCEIACNVPTTPGDMTE...</td>\n",
       "      <td>MSIVTKQNRAVAINPTRSCAPIGAMLANYGVHGALTINHGSQGCAT...</td>\n",
       "      <td>MRQVAFYGKGGIGKSTTQQNTAASLARIGKKIMVVGCDPKADCTRL...</td>\n",
       "    </tr>\n",
       "    <tr>\n",
       "      <th>2685</th>\n",
       "      <td>Nif_Candidatus_Viridilinea_mediisalina</td>\n",
       "      <td>MKLKCNATLPDRALHIALKTSEGGCRRGDGTDCFIASNSATTPGDM...</td>\n",
       "      <td>MSCVTTQDRAVAINPTRSCAPIGAMLANYGIHGAITINHGSQGCAT...</td>\n",
       "      <td>MRQVAFYGKGGIGKSTTQQNTAAALASMGNKLMVVGCDPKADCTRL...</td>\n",
       "    </tr>\n",
       "    <tr>\n",
       "      <th>2686</th>\n",
       "      <td>Nif_Chloroflexales_bacterium_ZM16-3</td>\n",
       "      <td>MELKSSTTIPERAQHIALKVEGGKCQRGDGAGCAIVSNSATTPGDM...</td>\n",
       "      <td>MSCVTTQDRAVSINPTRSCAPIGAMLANYGIHGAITINHGSQGCAT...</td>\n",
       "      <td>MRQIAFYGKGGIGKSTTQQNTAAALASMGNKIMVVGCDPKADCTRL...</td>\n",
       "    </tr>\n",
       "    <tr>\n",
       "      <th>2687</th>\n",
       "      <td>Nif_Oscillochloris_trichoides</td>\n",
       "      <td>MQFKCNETLPERGTHIALKVAGGGCQRGDGTSCGIVSNSATTPGDM...</td>\n",
       "      <td>MSCVTLQDRAVAINPTRSCAPIGAMLANYGIHGAITINHGSQGCAT...</td>\n",
       "      <td>MRQVAFYGKGGIGKSTTQQNTAAAFASMGNKLMVVGCDPKADCTRL...</td>\n",
       "    </tr>\n",
       "    <tr>\n",
       "      <th>2688</th>\n",
       "      <td>Nif_Roseiflexus_castenholzii</td>\n",
       "      <td>MQFKCNQTLPERAIHIALKGPDGKCQRGDGTGCFIANNVATTPGDM...</td>\n",
       "      <td>MTSCLTMQDRAVAINPTRSCAPIGAMLANYGIHGAITINHGSQGCA...</td>\n",
       "      <td>MRQVAFYGKGGIGKSTTQQNTAAALASMGYRLMVVGCDPKADCTRL...</td>\n",
       "    </tr>\n",
       "  </tbody>\n",
       "</table>\n",
       "<p>2689 rows × 4 columns</p>\n",
       "</div>"
      ],
      "text/plain": [
       "                                          id  \\\n",
       "0                                  1207_alt4   \n",
       "1                                  1207_alt5   \n",
       "2                                   1207_map   \n",
       "3                                  1207_alt2   \n",
       "4                                  1207_alt3   \n",
       "...                                      ...   \n",
       "2684                 Nif_archaeon_BMS3Bbin15   \n",
       "2685  Nif_Candidatus_Viridilinea_mediisalina   \n",
       "2686     Nif_Chloroflexales_bacterium_ZM16-3   \n",
       "2687           Nif_Oscillochloris_trichoides   \n",
       "2688            Nif_Roseiflexus_castenholzii   \n",
       "\n",
       "                                                  seq_D  \\\n",
       "0     MSKKEEKEELIEEILDVYPEKARKNREKHIAVNDPDSGQCAVKSNV...   \n",
       "1     MSENEERKEIIEEVLEVYPEKARKNRKKHLAVNDPDAASCAVKSNV...   \n",
       "2     MSEKEETQKLIEEVLEVYPEKARKNRKKHIAVNDPEASSCAVKSNV...   \n",
       "3     MSEDEQSKKLVEEVLNVYPEKARKNRAKHVAVNDPDAGSCVVKSNV...   \n",
       "4     MSTKEQTQKIVEEVLEIYPEKARKNRRKHLAVNDPGANSCSVKSNV...   \n",
       "...                                                 ...   \n",
       "2684  MLLKCDKTIPERKKHIVIKGENGCGGDSSGCEIACNVPTTPGDMTE...   \n",
       "2685  MKLKCNATLPDRALHIALKTSEGGCRRGDGTDCFIASNSATTPGDM...   \n",
       "2686  MELKSSTTIPERAQHIALKVEGGKCQRGDGAGCAIVSNSATTPGDM...   \n",
       "2687  MQFKCNETLPERGTHIALKVAGGGCQRGDGTSCGIVSNSATTPGDM...   \n",
       "2688  MQFKCNQTLPERAIHIALKGPDGKCQRGDGTGCFIANNVATTPGDM...   \n",
       "\n",
       "                                                  seq_K  \\\n",
       "0     ASKEEVEKVLEWTKTEEYKEKNFKRKALVINPAKACQPLGAVLAAL...   \n",
       "1     ASAEEVQKVKDWTNTEEYKEKNFKRKALVINPAKACQPLGAVLAAL...   \n",
       "2     CTKEEVEKVADWTNTEEYKEKNFKRKALVINPAKACQPLGAVLAAL...   \n",
       "3     HTPEEVERVKDWTNTEEYKEKNFARKALVINPAKACQPLGAMLAAL...   \n",
       "4     HTKEEVQEVAEWTNTEEYKEKNFARKALVINPAKACQPLGALLAAL...   \n",
       "...                                                 ...   \n",
       "2684  MSIVTKQNRAVAINPTRSCAPIGAMLANYGVHGALTINHGSQGCAT...   \n",
       "2685  MSCVTTQDRAVAINPTRSCAPIGAMLANYGIHGAITINHGSQGCAT...   \n",
       "2686  MSCVTTQDRAVSINPTRSCAPIGAMLANYGIHGAITINHGSQGCAT...   \n",
       "2687  MSCVTLQDRAVAINPTRSCAPIGAMLANYGIHGAITINHGSQGCAT...   \n",
       "2688  MTSCLTMQDRAVAINPTRSCAPIGAMLANYGIHGAITINHGSQGCA...   \n",
       "\n",
       "                                                  seq_H  \n",
       "0     MRQIAIYGKGGIGKSTTTQNTVAALAEMGKKIMIVGCDPKADSTRL...  \n",
       "1     MRQIAIYGKGGIGKSTTTQNTVAALAEMGKKVMIVGCDPKADSTRL...  \n",
       "2     MRQIAIYGKGGIGKSTTTQNTVAALAEMGKKVMIVGCDPKADSTRL...  \n",
       "3     MRQIAIYGKGGIGKSTTTQNTVAALAEMGKKVMIVGCDPKADSTRL...  \n",
       "4     MRQIAIYGKGGIGKSTTTQNTVAALAEMGKKVMIVGCDPKADSTRL...  \n",
       "...                                                 ...  \n",
       "2684  MRQVAFYGKGGIGKSTTQQNTAASLARIGKKIMVVGCDPKADCTRL...  \n",
       "2685  MRQVAFYGKGGIGKSTTQQNTAAALASMGNKLMVVGCDPKADCTRL...  \n",
       "2686  MRQIAFYGKGGIGKSTTQQNTAAALASMGNKIMVVGCDPKADCTRL...  \n",
       "2687  MRQVAFYGKGGIGKSTTQQNTAAAFASMGNKLMVVGCDPKADCTRL...  \n",
       "2688  MRQVAFYGKGGIGKSTTQQNTAAALASMGYRLMVVGCDPKADCTRL...  \n",
       "\n",
       "[2689 rows x 4 columns]"
      ]
     },
     "execution_count": 4,
     "metadata": {},
     "output_type": "execute_result"
    }
   ],
   "source": [
    "aln_DK = pd.merge(aln_D, aln_K, on='id', how='inner', suffixes=['_D', '_K'])\n",
    "aln_DKH = pd.merge(aln_DK, aln_H, on='id', how='inner').rename(columns={'seq': 'seq_H'})\n",
    "assert(len(aln_DKH) == len(aln_D))\n",
    "aln_DKH"
   ]
  },
  {
   "cell_type": "markdown",
   "metadata": {},
   "source": [
    "Now we will rename the ancestors id to include the tag \"anc_\" in front of them."
   ]
  },
  {
   "cell_type": "code",
   "execution_count": 5,
   "metadata": {},
   "outputs": [],
   "source": [
    "def place_anc_tag(x):\n",
    "    try:\n",
    "        int(x.split('_')[0])\n",
    "        return 'Anc_' + x\n",
    "    except:\n",
    "        return x\n",
    "\n",
    "aln_DKH['id'] = aln_DKH['id'].apply(place_anc_tag)"
   ]
  },
  {
   "cell_type": "markdown",
   "metadata": {},
   "source": [
    "Now we will build all the sequences for prediction."
   ]
  },
  {
   "cell_type": "code",
   "execution_count": 6,
   "metadata": {},
   "outputs": [
    {
     "data": {
      "text/plain": [
       "'MRQIAIYGKGGIGKSTTTQNTVAGLASLGKKVMIVGCDPKADSTRLILHAKAQATVMDKVRELGTVEDLELEDVLKRGYGDVKCVESGGPEPGVGCAGRGVITAINFLEEEGAYTPDLDYVFYDVLGDVVCGGFAMPIRENKAQEIYIVVSGEMMAMYAANNICKGIVKYASSGSVRLAGLICNSRNTDREADLIEALAKRLGTQMIHFVPRDNQVQRAELRRMTVIEYSPEHKQAEEYRQLAQKIADNKMFVVPTPLEMDELEDLLMEFGIMEAEDESIVGKAENA:MRQIAIYGKGGIGKSTTTQNTVAGLASLGKKVMIVGCDPKADSTRLILHAKAQATVMDKVRELGTVEDLELEDVLKRGYGDVKCVESGGPEPGVGCAGRGVITAINFLEEEGAYTPDLDYVFYDVLGDVVCGGFAMPIRENKAQEIYIVVSGEMMAMYAANNICKGIVKYASSGSVRLAGLICNSRNTDREADLIEALAKRLGTQMIHFVPRDNQVQRAELRRMTVIEYSPEHKQAEEYRQLAQKIADNKMFVVPTPLEMDELEDLLMEFGIMEAEDESIVGKAENA'"
      ]
     },
     "execution_count": 6,
     "metadata": {},
     "output_type": "execute_result"
    }
   ],
   "source": [
    "aln_DKH['DDKK'] = aln_DKH.apply(lambda x: x['seq_D'] + ':' + x['seq_K'] + ':' + x['seq_D'] + ':' + x['seq_K'], axis=1)\n",
    "aln_DKH['HH'] = aln_DKH.apply(lambda x: x['seq_H'] + ':' + x['seq_H'], axis=1)\n",
    "aln_DKH.loc[15].HH"
   ]
  },
  {
   "cell_type": "markdown",
   "metadata": {},
   "source": [
    "We will split our dataset into extant and ancestral, as they require very different treatments."
   ]
  },
  {
   "cell_type": "code",
   "execution_count": 7,
   "metadata": {},
   "outputs": [
    {
     "data": {
      "text/plain": [
       "array(['Anc', 'Anf', 'Vnf', 'Nif'], dtype=object)"
      ]
     },
     "execution_count": 7,
     "metadata": {},
     "output_type": "execute_result"
    }
   ],
   "source": [
    "aln_DKH['type'] = aln_DKH['id'].apply(lambda x: x.split('_')[0])\n",
    "aln_DKH['type'].unique()"
   ]
  },
  {
   "cell_type": "markdown",
   "metadata": {},
   "source": [
    "There are no G subunits in the dataset, and yet we have Vnf and Anf sequences... Let's try to avoid dealing with those for now."
   ]
  },
  {
   "cell_type": "code",
   "execution_count": 8,
   "metadata": {},
   "outputs": [],
   "source": [
    "aln_DKH_nif = aln_DKH.query('type == \"Nif\"').copy()\n",
    "aln_DKH_anc = aln_DKH.query('type == \"Anc\"').copy()\n",
    "aln_DKH_alt = aln_DKH.query('type != \"Anc\" and type != \"Nif\"').copy()\n",
    "# aln_DKH_alt"
   ]
  },
  {
   "cell_type": "markdown",
   "metadata": {},
   "source": [
    "### Procesing ancestors\n",
    "\n",
    "The ancestors require extra work, as we need to organize all the sequences by parent sequence to enable the later re-alignment."
   ]
  },
  {
   "cell_type": "code",
   "execution_count": 9,
   "metadata": {},
   "outputs": [
    {
     "data": {
      "text/plain": [
       "0       Anc_1207\n",
       "1       Anc_1207\n",
       "2       Anc_1207\n",
       "3       Anc_1207\n",
       "4       Anc_1207\n",
       "          ...   \n",
       "2299    Anc_1534\n",
       "2300    Anc_1534\n",
       "2301    Anc_1525\n",
       "2302     Anc_821\n",
       "2303     Anc_821\n",
       "Name: parent, Length: 2304, dtype: object"
      ]
     },
     "execution_count": 9,
     "metadata": {},
     "output_type": "execute_result"
    }
   ],
   "source": [
    "aln_DKH_anc['parent'] = aln_DKH_anc['id'].apply(lambda x: '_'.join(x.split('_')[:2]))\n",
    "aln_DKH_anc['parent']"
   ]
  },
  {
   "cell_type": "markdown",
   "metadata": {},
   "source": [
    "## DDKK"
   ]
  },
  {
   "cell_type": "code",
   "execution_count": 12,
   "metadata": {},
   "outputs": [
    {
     "name": "stdout",
     "output_type": "stream",
     "text": [
      "processsing ddkk-extant.0.csv\n",
      "processsing ddkk-extant.1.csv\n",
      "processsing ddkk-extant.2.csv\n",
      "processsing ddkk-extant.3.csv\n",
      "processsing ddkk-extant.4.csv\n",
      "processsing ddkk-extant.5.csv\n",
      "processsing ddkk-extant.6.csv\n",
      "processsing ddkk-extant.7.csv\n",
      "processsing ddkk-extant.8.csv\n",
      "processsing ddkk-extant.9.csv\n"
     ]
    }
   ],
   "source": [
    "aln_DKH_nif_batches = np.array_split(aln_DKH_nif, 10)\n",
    "for i, batch in enumerate(aln_DKH_nif_batches):\n",
    "    print(f'processsing ddkk-extant.{i}.csv')\n",
    "    batch[['id', 'DDKK']].rename(columns={'DDKK': 'sequence'}).to_csv(f'input/ddkk-extant.{i}.csv', index=None)"
   ]
  },
  {
   "cell_type": "code",
   "execution_count": 15,
   "metadata": {},
   "outputs": [
    {
     "data": {
      "text/html": [
       "<div>\n",
       "<style scoped>\n",
       "    .dataframe tbody tr th:only-of-type {\n",
       "        vertical-align: middle;\n",
       "    }\n",
       "\n",
       "    .dataframe tbody tr th {\n",
       "        vertical-align: top;\n",
       "    }\n",
       "\n",
       "    .dataframe thead th {\n",
       "        text-align: right;\n",
       "    }\n",
       "</style>\n",
       "<table border=\"1\" class=\"dataframe\">\n",
       "  <thead>\n",
       "    <tr style=\"text-align: right;\">\n",
       "      <th></th>\n",
       "      <th>id</th>\n",
       "      <th>seq_D</th>\n",
       "      <th>seq_K</th>\n",
       "      <th>seq_H</th>\n",
       "      <th>DDKK</th>\n",
       "      <th>HH</th>\n",
       "      <th>type</th>\n",
       "      <th>parent</th>\n",
       "      <th>variant</th>\n",
       "    </tr>\n",
       "  </thead>\n",
       "  <tbody>\n",
       "    <tr>\n",
       "      <th>2</th>\n",
       "      <td>Anc_1207_map</td>\n",
       "      <td>MSEKEETQKLIEEVLEVYPEKARKNRKKHIAVNDPEASSCAVKSNV...</td>\n",
       "      <td>CTKEEVEKVADWTNTEEYKEKNFKRKALVINPAKACQPLGAVLAAL...</td>\n",
       "      <td>MRQIAIYGKGGIGKSTTTQNTVAALAEMGKKVMIVGCDPKADSTRL...</td>\n",
       "      <td>MSEKEETQKLIEEVLEVYPEKARKNRKKHIAVNDPEASSCAVKSNV...</td>\n",
       "      <td>MRQIAIYGKGGIGKSTTTQNTVAALAEMGKKVMIVGCDPKADSTRL...</td>\n",
       "      <td>Anc</td>\n",
       "      <td>Anc_1207</td>\n",
       "      <td>map</td>\n",
       "    </tr>\n",
       "    <tr>\n",
       "      <th>9</th>\n",
       "      <td>Anc_1213_map</td>\n",
       "      <td>MSEKKVKPVEGITKERTEKLIDETLEAYPEKARKKRAPHLAANDPA...</td>\n",
       "      <td>MSEAAAVVKKVTETTPEEVERVKEWINTEEYKEKNFAREALVINPA...</td>\n",
       "      <td>MRQIAIYGKGGIGKSTTTQNTVAGLASLGKKVMIVGCDPKADSTRL...</td>\n",
       "      <td>MSEKKVKPVEGITKERTEKLIDETLEAYPEKARKKRAPHLAANDPA...</td>\n",
       "      <td>MRQIAIYGKGGIGKSTTTQNTVAGLASLGKKVMIVGCDPKADSTRL...</td>\n",
       "      <td>Anc</td>\n",
       "      <td>Anc_1213</td>\n",
       "      <td>map</td>\n",
       "    </tr>\n",
       "    <tr>\n",
       "      <th>18</th>\n",
       "      <td>Anc_1215_map</td>\n",
       "      <td>MSERKPIKGVTTERTEKLIDETLAEMPEKAQKKRAPHLGANDPSAS...</td>\n",
       "      <td>MSAEAAVKKVTEHTPEEIERVKEWINTEEYKEKNFAREALVVNPAH...</td>\n",
       "      <td>MRQIAIYGKGGIGKSTTTQNTVAGLASLGKKVMIIGCDPKADSTRL...</td>\n",
       "      <td>MSERKPIKGVTTERTEKLIDETLAEMPEKAQKKRAPHLGANDPSAS...</td>\n",
       "      <td>MRQIAIYGKGGIGKSTTTQNTVAGLASLGKKVMIIGCDPKADSTRL...</td>\n",
       "      <td>Anc</td>\n",
       "      <td>Anc_1215</td>\n",
       "      <td>map</td>\n",
       "    </tr>\n",
       "    <tr>\n",
       "      <th>21</th>\n",
       "      <td>Anc_1214_map</td>\n",
       "      <td>MSERKPIKGVTKERTEKLIDETLAEMPEKAQKKRAPHLAANDPSAS...</td>\n",
       "      <td>MSAEAAVVKKVTEHTPEEIERVKEWINTEEYKEKNFAREALVVNPA...</td>\n",
       "      <td>MRQIAIYGKGGIGKSTTTQNTVAGLASLGKKVMIIGCDPKADSTRL...</td>\n",
       "      <td>MSERKPIKGVTKERTEKLIDETLAEMPEKAQKKRAPHLAANDPSAS...</td>\n",
       "      <td>MRQIAIYGKGGIGKSTTTQNTVAGLASLGKKVMIIGCDPKADSTRL...</td>\n",
       "      <td>Anc</td>\n",
       "      <td>Anc_1214</td>\n",
       "      <td>map</td>\n",
       "    </tr>\n",
       "    <tr>\n",
       "      <th>29</th>\n",
       "      <td>Anc_1216_map</td>\n",
       "      <td>MSEKIKKVDGITKESTQAMIDKTLEAYPEKARKKRAPHLAPNDQAS...</td>\n",
       "      <td>MANALGLEVKPVTETTPEEVERVKNWINTEEYKEKNFARQALVINP...</td>\n",
       "      <td>MRQIAIYGKGGIGKSTTTQNTVAGLASLGKKVMIVGCDPKADSTRL...</td>\n",
       "      <td>MSEKIKKVDGITKESTQAMIDKTLEAYPEKARKKRAPHLAPNDQAS...</td>\n",
       "      <td>MRQIAIYGKGGIGKSTTTQNTVAGLASLGKKVMIVGCDPKADSTRL...</td>\n",
       "      <td>Anc</td>\n",
       "      <td>Anc_1216</td>\n",
       "      <td>map</td>\n",
       "    </tr>\n",
       "    <tr>\n",
       "      <th>...</th>\n",
       "      <td>...</td>\n",
       "      <td>...</td>\n",
       "      <td>...</td>\n",
       "      <td>...</td>\n",
       "      <td>...</td>\n",
       "      <td>...</td>\n",
       "      <td>...</td>\n",
       "      <td>...</td>\n",
       "      <td>...</td>\n",
       "    </tr>\n",
       "    <tr>\n",
       "      <th>2273</th>\n",
       "      <td>Anc_1533_map</td>\n",
       "      <td>MLLKCDKTIPERKKHIVIKGENGCGKGDGSPCEIACNVPTTPGDMT...</td>\n",
       "      <td>MSAITKQKRAVAINPARSCAPIGAMLAAMGVHGAITIVHGSQGCAT...</td>\n",
       "      <td>MRQIAFYGKGGIGKSTTQQNTAAALASMGNKIMVVGCDPKADCTRL...</td>\n",
       "      <td>MLLKCDKTIPERKKHIVIKGENGCGKGDGSPCEIACNVPTTPGDMT...</td>\n",
       "      <td>MRQIAFYGKGGIGKSTTQQNTAAALASMGNKIMVVGCDPKADCTRL...</td>\n",
       "      <td>Anc</td>\n",
       "      <td>Anc_1533</td>\n",
       "      <td>map</td>\n",
       "    </tr>\n",
       "    <tr>\n",
       "      <th>2283</th>\n",
       "      <td>Anc_1535_map</td>\n",
       "      <td>MQLKCNQTLPERATHIALKGEDGKCQRGDGTGCFIASNVATTPGDM...</td>\n",
       "      <td>MSCVTTQDRAVAINPTRSCAPIGAMLANYGIHGAITINHGSQGCAT...</td>\n",
       "      <td>MRQVAFYGKGGIGKSTTQQNTAAALASMGNKLMVVGCDPKADCTRL...</td>\n",
       "      <td>MQLKCNQTLPERATHIALKGEDGKCQRGDGTGCFIASNVATTPGDM...</td>\n",
       "      <td>MRQVAFYGKGGIGKSTTQQNTAAALASMGNKLMVVGCDPKADCTRL...</td>\n",
       "      <td>Anc</td>\n",
       "      <td>Anc_1535</td>\n",
       "      <td>map</td>\n",
       "    </tr>\n",
       "    <tr>\n",
       "      <th>2286</th>\n",
       "      <td>Anc_1537_map</td>\n",
       "      <td>MQLKCNETLPERATHIALKVAGGGCQRGDGTGCFIVSNSATTPGDM...</td>\n",
       "      <td>MSCVTTQDRAVAINPTRSCAPIGAMLANYGIHGAITINHGSQGCAT...</td>\n",
       "      <td>MRQVAFYGKGGIGKSTTQQNTAAALASMGNKLMVVGCDPKADCTRL...</td>\n",
       "      <td>MQLKCNETLPERATHIALKVAGGGCQRGDGTGCFIVSNSATTPGDM...</td>\n",
       "      <td>MRQVAFYGKGGIGKSTTQQNTAAALASMGNKLMVVGCDPKADCTRL...</td>\n",
       "      <td>Anc</td>\n",
       "      <td>Anc_1537</td>\n",
       "      <td>map</td>\n",
       "    </tr>\n",
       "    <tr>\n",
       "      <th>2294</th>\n",
       "      <td>Anc_1536_map</td>\n",
       "      <td>MQLKCNETLPERAQHIALKVEGGKCQRGDGTGCFIVSNSATTPGDM...</td>\n",
       "      <td>MSCVTTQDRAVAINPTRSCAPIGAMLANYGIHGAITINHGSQGCAT...</td>\n",
       "      <td>MRQVAFYGKGGIGKSTTQQNTAAALASMGNKLMVVGCDPKADCTRL...</td>\n",
       "      <td>MQLKCNETLPERAQHIALKVEGGKCQRGDGTGCFIVSNSATTPGDM...</td>\n",
       "      <td>MRQVAFYGKGGIGKSTTQQNTAAALASMGNKLMVVGCDPKADCTRL...</td>\n",
       "      <td>Anc</td>\n",
       "      <td>Anc_1536</td>\n",
       "      <td>map</td>\n",
       "    </tr>\n",
       "    <tr>\n",
       "      <th>2299</th>\n",
       "      <td>Anc_1534_map</td>\n",
       "      <td>MLLKCDKTIPERKKHIVIKGENGCGRGDGSGCEIACNVPTTPGDMT...</td>\n",
       "      <td>MSVVTKQNRAVAINPTRSCAPIGAMLANYGVHGAITINHGSQGCAT...</td>\n",
       "      <td>MRQVAFYGKGGIGKSTTQQNTAAALASMGNKIMVVGCDPKADCTRL...</td>\n",
       "      <td>MLLKCDKTIPERKKHIVIKGENGCGRGDGSGCEIACNVPTTPGDMT...</td>\n",
       "      <td>MRQVAFYGKGGIGKSTTQQNTAAALASMGNKIMVVGCDPKADCTRL...</td>\n",
       "      <td>Anc</td>\n",
       "      <td>Anc_1534</td>\n",
       "      <td>map</td>\n",
       "    </tr>\n",
       "  </tbody>\n",
       "</table>\n",
       "<p>384 rows × 9 columns</p>\n",
       "</div>"
      ],
      "text/plain": [
       "                id                                              seq_D  \\\n",
       "2     Anc_1207_map  MSEKEETQKLIEEVLEVYPEKARKNRKKHIAVNDPEASSCAVKSNV...   \n",
       "9     Anc_1213_map  MSEKKVKPVEGITKERTEKLIDETLEAYPEKARKKRAPHLAANDPA...   \n",
       "18    Anc_1215_map  MSERKPIKGVTTERTEKLIDETLAEMPEKAQKKRAPHLGANDPSAS...   \n",
       "21    Anc_1214_map  MSERKPIKGVTKERTEKLIDETLAEMPEKAQKKRAPHLAANDPSAS...   \n",
       "29    Anc_1216_map  MSEKIKKVDGITKESTQAMIDKTLEAYPEKARKKRAPHLAPNDQAS...   \n",
       "...            ...                                                ...   \n",
       "2273  Anc_1533_map  MLLKCDKTIPERKKHIVIKGENGCGKGDGSPCEIACNVPTTPGDMT...   \n",
       "2283  Anc_1535_map  MQLKCNQTLPERATHIALKGEDGKCQRGDGTGCFIASNVATTPGDM...   \n",
       "2286  Anc_1537_map  MQLKCNETLPERATHIALKVAGGGCQRGDGTGCFIVSNSATTPGDM...   \n",
       "2294  Anc_1536_map  MQLKCNETLPERAQHIALKVEGGKCQRGDGTGCFIVSNSATTPGDM...   \n",
       "2299  Anc_1534_map  MLLKCDKTIPERKKHIVIKGENGCGRGDGSGCEIACNVPTTPGDMT...   \n",
       "\n",
       "                                                  seq_K  \\\n",
       "2     CTKEEVEKVADWTNTEEYKEKNFKRKALVINPAKACQPLGAVLAAL...   \n",
       "9     MSEAAAVVKKVTETTPEEVERVKEWINTEEYKEKNFAREALVINPA...   \n",
       "18    MSAEAAVKKVTEHTPEEIERVKEWINTEEYKEKNFAREALVVNPAH...   \n",
       "21    MSAEAAVVKKVTEHTPEEIERVKEWINTEEYKEKNFAREALVVNPA...   \n",
       "29    MANALGLEVKPVTETTPEEVERVKNWINTEEYKEKNFARQALVINP...   \n",
       "...                                                 ...   \n",
       "2273  MSAITKQKRAVAINPARSCAPIGAMLAAMGVHGAITIVHGSQGCAT...   \n",
       "2283  MSCVTTQDRAVAINPTRSCAPIGAMLANYGIHGAITINHGSQGCAT...   \n",
       "2286  MSCVTTQDRAVAINPTRSCAPIGAMLANYGIHGAITINHGSQGCAT...   \n",
       "2294  MSCVTTQDRAVAINPTRSCAPIGAMLANYGIHGAITINHGSQGCAT...   \n",
       "2299  MSVVTKQNRAVAINPTRSCAPIGAMLANYGVHGAITINHGSQGCAT...   \n",
       "\n",
       "                                                  seq_H  \\\n",
       "2     MRQIAIYGKGGIGKSTTTQNTVAALAEMGKKVMIVGCDPKADSTRL...   \n",
       "9     MRQIAIYGKGGIGKSTTTQNTVAGLASLGKKVMIVGCDPKADSTRL...   \n",
       "18    MRQIAIYGKGGIGKSTTTQNTVAGLASLGKKVMIIGCDPKADSTRL...   \n",
       "21    MRQIAIYGKGGIGKSTTTQNTVAGLASLGKKVMIIGCDPKADSTRL...   \n",
       "29    MRQIAIYGKGGIGKSTTTQNTVAGLASLGKKVMIVGCDPKADSTRL...   \n",
       "...                                                 ...   \n",
       "2273  MRQIAFYGKGGIGKSTTQQNTAAALASMGNKIMVVGCDPKADCTRL...   \n",
       "2283  MRQVAFYGKGGIGKSTTQQNTAAALASMGNKLMVVGCDPKADCTRL...   \n",
       "2286  MRQVAFYGKGGIGKSTTQQNTAAALASMGNKLMVVGCDPKADCTRL...   \n",
       "2294  MRQVAFYGKGGIGKSTTQQNTAAALASMGNKLMVVGCDPKADCTRL...   \n",
       "2299  MRQVAFYGKGGIGKSTTQQNTAAALASMGNKIMVVGCDPKADCTRL...   \n",
       "\n",
       "                                                   DDKK  \\\n",
       "2     MSEKEETQKLIEEVLEVYPEKARKNRKKHIAVNDPEASSCAVKSNV...   \n",
       "9     MSEKKVKPVEGITKERTEKLIDETLEAYPEKARKKRAPHLAANDPA...   \n",
       "18    MSERKPIKGVTTERTEKLIDETLAEMPEKAQKKRAPHLGANDPSAS...   \n",
       "21    MSERKPIKGVTKERTEKLIDETLAEMPEKAQKKRAPHLAANDPSAS...   \n",
       "29    MSEKIKKVDGITKESTQAMIDKTLEAYPEKARKKRAPHLAPNDQAS...   \n",
       "...                                                 ...   \n",
       "2273  MLLKCDKTIPERKKHIVIKGENGCGKGDGSPCEIACNVPTTPGDMT...   \n",
       "2283  MQLKCNQTLPERATHIALKGEDGKCQRGDGTGCFIASNVATTPGDM...   \n",
       "2286  MQLKCNETLPERATHIALKVAGGGCQRGDGTGCFIVSNSATTPGDM...   \n",
       "2294  MQLKCNETLPERAQHIALKVEGGKCQRGDGTGCFIVSNSATTPGDM...   \n",
       "2299  MLLKCDKTIPERKKHIVIKGENGCGRGDGSGCEIACNVPTTPGDMT...   \n",
       "\n",
       "                                                     HH type    parent variant  \n",
       "2     MRQIAIYGKGGIGKSTTTQNTVAALAEMGKKVMIVGCDPKADSTRL...  Anc  Anc_1207     map  \n",
       "9     MRQIAIYGKGGIGKSTTTQNTVAGLASLGKKVMIVGCDPKADSTRL...  Anc  Anc_1213     map  \n",
       "18    MRQIAIYGKGGIGKSTTTQNTVAGLASLGKKVMIIGCDPKADSTRL...  Anc  Anc_1215     map  \n",
       "21    MRQIAIYGKGGIGKSTTTQNTVAGLASLGKKVMIIGCDPKADSTRL...  Anc  Anc_1214     map  \n",
       "29    MRQIAIYGKGGIGKSTTTQNTVAGLASLGKKVMIVGCDPKADSTRL...  Anc  Anc_1216     map  \n",
       "...                                                 ...  ...       ...     ...  \n",
       "2273  MRQIAFYGKGGIGKSTTQQNTAAALASMGNKIMVVGCDPKADCTRL...  Anc  Anc_1533     map  \n",
       "2283  MRQVAFYGKGGIGKSTTQQNTAAALASMGNKLMVVGCDPKADCTRL...  Anc  Anc_1535     map  \n",
       "2286  MRQVAFYGKGGIGKSTTQQNTAAALASMGNKLMVVGCDPKADCTRL...  Anc  Anc_1537     map  \n",
       "2294  MRQVAFYGKGGIGKSTTQQNTAAALASMGNKLMVVGCDPKADCTRL...  Anc  Anc_1536     map  \n",
       "2299  MRQVAFYGKGGIGKSTTQQNTAAALASMGNKIMVVGCDPKADCTRL...  Anc  Anc_1534     map  \n",
       "\n",
       "[384 rows x 9 columns]"
      ]
     },
     "execution_count": 15,
     "metadata": {},
     "output_type": "execute_result"
    }
   ],
   "source": [
    "aln_DKH_anc['variant'] = aln_DKH_anc['id'].apply(lambda x: x.split('_')[-1])\n",
    "aln_DKH_anc.query('variant == \"map\"')"
   ]
  },
  {
   "cell_type": "code",
   "execution_count": 16,
   "metadata": {},
   "outputs": [
    {
     "name": "stdout",
     "output_type": "stream",
     "text": [
      "processsing ddkk-ancestral.0.csv\n",
      "processsing ddkk-ancestral.1.csv\n",
      "processsing ddkk-ancestral.2.csv\n",
      "processsing ddkk-ancestral.3.csv\n",
      "processsing ddkk-ancestral.4.csv\n",
      "processsing ddkk-ancestral.5.csv\n",
      "processsing ddkk-ancestral.6.csv\n",
      "processsing ddkk-ancestral.7.csv\n",
      "processsing ddkk-ancestral.8.csv\n",
      "processsing ddkk-ancestral.9.csv\n"
     ]
    }
   ],
   "source": [
    "aln_DKH_anc_batches = np.array_split(aln_DKH_anc.query('variant == \"map\"'), 10)\n",
    "for i, batch in enumerate(aln_DKH_anc_batches):\n",
    "    print(f'processsing ddkk-ancestral.{i}.csv')\n",
    "    batch[['id', 'DDKK']].rename(columns={'DDKK': 'sequence'}).to_csv(f'input/ddkk-ancestral.{i}.csv', index=None)"
   ]
  },
  {
   "cell_type": "code",
   "execution_count": 36,
   "metadata": {},
   "outputs": [],
   "source": [
    "aln_DKH_alt[['id', 'DDKK']].rename(columns=dict(DDKK='sequence')).to_csv('./input/ddkk-alternative.csv', index=None)"
   ]
  },
  {
   "cell_type": "markdown",
   "metadata": {},
   "source": [
    "# HH"
   ]
  },
  {
   "cell_type": "code",
   "execution_count": 12,
   "metadata": {},
   "outputs": [],
   "source": [
    "aln_DKH['variant'] = aln_DKH.id.apply(lambda x: x.split('_')[-1] if x[:3] == 'Anc' else 'map')\n",
    "aln_DKH_map = aln_DKH.query('variant == \"map\"')"
   ]
  },
  {
   "cell_type": "code",
   "execution_count": 13,
   "metadata": {},
   "outputs": [
    {
     "name": "stdout",
     "output_type": "stream",
     "text": [
      "processsing hh.0.csv\n",
      "processsing hh.1.csv\n",
      "processsing hh.2.csv\n",
      "processsing hh.3.csv\n",
      "processsing hh.4.csv\n",
      "processsing hh.5.csv\n",
      "processsing hh.6.csv\n",
      "processsing hh.7.csv\n",
      "processsing hh.8.csv\n",
      "processsing hh.9.csv\n",
      "processsing hh.10.csv\n",
      "processsing hh.11.csv\n",
      "processsing hh.12.csv\n",
      "processsing hh.13.csv\n",
      "processsing hh.14.csv\n",
      "processsing hh.15.csv\n",
      "processsing hh.16.csv\n",
      "processsing hh.17.csv\n",
      "processsing hh.18.csv\n",
      "processsing hh.19.csv\n",
      "processsing hh.20.csv\n"
     ]
    }
   ],
   "source": [
    "aln_DKH_map_batches = np.array_split(aln_DKH_map, 21)\n",
    "for i, batch in enumerate(aln_DKH_map_batches):\n",
    "    print(f'processsing hh.{i}.csv')\n",
    "    batch[['id', 'HH']].rename(columns={'HH': 'sequence'}).to_csv(f'input/hh.{i}.csv', index=None)"
   ]
  },
  {
   "cell_type": "code",
   "execution_count": null,
   "metadata": {},
   "outputs": [],
   "source": []
  }
 ],
 "metadata": {
  "kernelspec": {
   "display_name": "bst",
   "language": "python",
   "name": "python3"
  },
  "language_info": {
   "codemirror_mode": {
    "name": "ipython",
    "version": 3
   },
   "file_extension": ".py",
   "mimetype": "text/x-python",
   "name": "python",
   "nbconvert_exporter": "python",
   "pygments_lexer": "ipython3",
   "version": "3.9.0"
  }
 },
 "nbformat": 4,
 "nbformat_minor": 2
}
