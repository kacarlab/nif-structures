{
 "cells": [
  {
   "cell_type": "code",
   "execution_count": null,
   "metadata": {
    "tags": [
     "parameters"
    ]
   },
   "outputs": [],
   "source": [
    "product = None\n",
    "upstream = ['01-uniform-files']\n",
    "input = None\n",
    "R2_ENDPOINT_URL = None\n",
    "R2_KEY_ID = None\n",
    "R2_KEY = None"
   ]
  },
  {
   "cell_type": "code",
   "execution_count": null,
   "metadata": {},
   "outputs": [],
   "source": [
    "import boto3\n",
    "import pandas as pd\n",
    "\n",
    "# s3 = boto3.resource('s3')\n",
    "s3 = boto3.resource('s3',\n",
    "  endpoint_url = R2_ENDPOINT_URL,\n",
    "  aws_access_key_id = R2_KEY_ID,\n",
    "  aws_secret_access_key = R2_KEY\n",
    ")\n",
    "\n",
    "\n",
    "\n",
    "def upload_protein(file_path, file_name):\n",
    "\n",
    "    \n",
    "    s3.Bucket('nsdb').upload_file(file_path, file_name)\n"
   ]
  },
  {
   "cell_type": "code",
   "execution_count": null,
   "metadata": {},
   "outputs": [],
   "source": [
    "reference = pd.read_csv(upstream['01-uniform-files']['data'], index_col=None)"
   ]
  },
  {
   "cell_type": "code",
   "execution_count": null,
   "metadata": {},
   "outputs": [],
   "source": [
    "for _, file in reference.iterrows():\n",
    "    print('uploading {:s}'.format(file.id))\n",
    "    upload_protein(\n",
    "        file_path='./pdb/' + file.id + '.pdb', \n",
    "        file_name=file.id+ '.pdb'\n",
    "    )"
   ]
  }
 ],
 "metadata": {
  "language_info": {
   "name": "python"
  }
 },
 "nbformat": 4,
 "nbformat_minor": 2
}
