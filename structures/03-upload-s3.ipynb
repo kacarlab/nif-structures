{
 "cells": [
  {
   "cell_type": "code",
   "execution_count": null,
   "metadata": {
    "tags": [
     "parameters"
    ]
   },
   "outputs": [],
   "source": [
    "product = None\n",
    "upstream = ['01-uniform-files']\n",
    "input = None"
   ]
  },
  {
   "cell_type": "code",
   "execution_count": null,
   "metadata": {},
   "outputs": [],
   "source": [
    "import boto3\n",
    "import pandas as pd\n",
    "\n",
    "def upload_protein(file_path, file_name):\n",
    "\n",
    "    s3 = boto3.resource('s3')\n",
    "    s3.Bucket('nitrogenase-structures').upload_file(file_path, file_name)\n"
   ]
  },
  {
   "cell_type": "code",
   "execution_count": null,
   "metadata": {},
   "outputs": [],
   "source": [
    "reference = pd.read_csv(upstream['01-uniform-files']['data'], index_col=None)"
   ]
  },
  {
   "cell_type": "code",
   "execution_count": null,
   "metadata": {},
   "outputs": [],
   "source": [
    "for _, file in reference.iterrows():\n",
    "    print('uploading {:s}'.format(file.id))\n",
    "    upload_protein(\n",
    "        file_path='./' + file.id + '.pdb', \n",
    "        file_name=file.id + '.pdb'\n",
    "    )"
   ]
  }
 ],
 "metadata": {
  "language_info": {
   "name": "python"
  }
 },
 "nbformat": 4,
 "nbformat_minor": 2
}
