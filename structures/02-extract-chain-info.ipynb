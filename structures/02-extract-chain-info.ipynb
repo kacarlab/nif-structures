{
 "cells": [
  {
   "cell_type": "code",
   "execution_count": null,
   "metadata": {
    "tags": [
     "parameters"
    ]
   },
   "outputs": [],
   "source": [
    "product = None\n",
    "upstream = ['01-uniform-files']\n",
    "input = None"
   ]
  },
  {
   "cell_type": "code",
   "execution_count": null,
   "metadata": {},
   "outputs": [],
   "source": [
    "import prody as pdy\n",
    "import pandas as pd\n",
    "import numpy as np\n",
    "import json"
   ]
  },
  {
   "cell_type": "code",
   "execution_count": null,
   "metadata": {},
   "outputs": [],
   "source": [
    "reference = pd.read_csv(upstream['01-uniform-files']['data'], index_col=None)\n",
    "reference.chain_reference = reference.chain_reference.apply(lambda x: json.loads(x.replace('\\'', '\"')))"
   ]
  },
  {
   "cell_type": "code",
   "execution_count": null,
   "metadata": {},
   "outputs": [],
   "source": [
    "def extract_subunits(id, chain_reference, reference):\n",
    "    pdb = pdy.parsePDB(id + '.pdb')\n",
    "    \n",
    "    for chain in pdb.getHierView().iterChains():\n",
    "        chain_id = chain.getChid()\n",
    "        subunit_id = chain_reference[chain_id]\n",
    "        chain_pLDDT = np.mean(chain.select('name CA').getBetas())\n",
    "        sequence = chain.select('name CA').getSequence()\n",
    "        reference.append(\n",
    "            dict(id=id, chain=chain_id, pLDDT=chain_pLDDT, subunit=subunit_id, sequence=sequence)\n",
    "        )\n",
    "\n"
   ]
  },
  {
   "cell_type": "code",
   "execution_count": null,
   "metadata": {},
   "outputs": [],
   "source": [
    "chain_index = []\n",
    "for line in reference.to_dict(orient='records'):\n",
    "    extract_subunits(line['id'], line['chain_reference'], chain_index)"
   ]
  },
  {
   "cell_type": "code",
   "execution_count": null,
   "metadata": {},
   "outputs": [],
   "source": [
    "pd.DataFrame.from_records(chain_index).to_csv(product['data'], index=None)\n"
   ]
  }
 ],
 "metadata": {
  "language_info": {
   "name": "python"
  }
 },
 "nbformat": 4,
 "nbformat_minor": 2
}
