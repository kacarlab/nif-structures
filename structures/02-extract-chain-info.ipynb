{
 "cells": [
  {
   "cell_type": "code",
   "execution_count": null,
   "metadata": {
    "tags": [
     "parameters"
    ]
   },
   "outputs": [],
   "source": [
    "product = None\n",
    "upstream = ['01-uniform-files']\n",
    "input = None"
   ]
  },
  {
   "cell_type": "code",
   "execution_count": null,
   "metadata": {},
   "outputs": [],
   "source": [
    "import prody as pdy\n",
    "import pandas as pd\n",
    "import numpy as np\n",
    "import multiprocessing as mp\n",
    "import json"
   ]
  },
  {
   "cell_type": "code",
   "execution_count": null,
   "metadata": {},
   "outputs": [],
   "source": [
    "reference = pd.read_csv(upstream['01-uniform-files']['data'], index_col=None)\n",
    "reference.chain_reference = reference.chain_reference.apply(lambda x: json.loads(x.replace('\\'', '\"')))"
   ]
  },
  {
   "cell_type": "code",
   "execution_count": null,
   "metadata": {},
   "outputs": [],
   "source": [
    "def extract_subunits(id, chain_reference):\n",
    "    pdb = pdy.parsePDB('./pdb/' + id + '.pdb')\n",
    "    out = []\n",
    "    for chain in pdb.getHierView().iterChains():\n",
    "        chain_id = chain.getChid()\n",
    "        subunit_id = chain_reference[chain_id]\n",
    "        chain_pLDDT = np.mean(chain.select('name CA').getBetas())\n",
    "        sequence = chain.select('name CA').getSequence()\n",
    "        out.append(dict(id=id, chain=chain_id, pLDDT=chain_pLDDT, subunit=subunit_id, sequence=sequence))\n",
    "    return out\n"
   ]
  },
  {
   "cell_type": "code",
   "execution_count": null,
   "metadata": {},
   "outputs": [],
   "source": [
    "\n",
    "pool = mp.Pool(8)\n",
    "\n",
    "results = [\n",
    "    pool.apply_async(\n",
    "        extract_subunits, args=(line['id'], line['chain_reference'])\n",
    "    ) for line in reference.to_dict(orient='records')\n",
    "]\n",
    "chain_index = []\n",
    "for p in results:\n",
    "    chains = p.get()\n",
    "    for chain in chains:\n",
    "        chain_index.append(chain)"
   ]
  },
  {
   "cell_type": "code",
   "execution_count": null,
   "metadata": {},
   "outputs": [],
   "source": [
    "pd.DataFrame.from_records(chain_index).to_csv(product['data'], index=None)\n"
   ]
  }
 ],
 "metadata": {
  "language_info": {
   "name": "python"
  }
 },
 "nbformat": 4,
 "nbformat_minor": 2
}
