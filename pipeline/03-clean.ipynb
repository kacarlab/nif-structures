{
 "cells": [
  {
   "cell_type": "markdown",
   "metadata": {},
   "source": [
    "# pLDDT processing\n",
    "\n",
    "**NOTE**: I should change the name of the notebook, given that there is no b-factor involved here, only a field that is stored in the bfactor column.\n",
    "\n"
   ]
  },
  {
   "cell_type": "code",
   "execution_count": null,
   "id": "7584f5ee",
   "metadata": {
    "tags": [
     "parameters"
    ]
   },
   "outputs": [],
   "source": [
    "# declare a list tasks whose products you want to use as inputs\n",
    "upstream = ['02-rename-chains']\n",
    "product = None\n",
    "system_name = None"
   ]
  },
  {
   "cell_type": "markdown",
   "metadata": {},
   "source": [
    "Load libraries"
   ]
  },
  {
   "cell_type": "code",
   "execution_count": null,
   "metadata": {},
   "outputs": [],
   "source": [
    "import prody as pdy\n",
    "import numpy as np\n",
    "import pandas as pd\n",
    "import matplotlib.pyplot as plt"
   ]
  },
  {
   "cell_type": "markdown",
   "metadata": {},
   "source": [
    "We have a somehow convolved scheme to remove the disordered/badly-predicted N and C tails. The idea is to apply a window, and remove all those regions that have an average pLDDT lower than 70. Once we find a residue with pLDDT higher than 70 from any of the ends, we stop cutting. \n",
    "\n",
    "This ain't the best, but it works."
   ]
  },
  {
   "cell_type": "code",
   "execution_count": null,
   "metadata": {},
   "outputs": [],
   "source": [
    "def window_betas(beta, window_size=3):\n",
    "    beta_windowed = []\n",
    "    for i in range(window_size, len(beta) - window_size):\n",
    "        beta_windowed.append([i, np.mean(beta[i-window_size:i+window_size])])\n",
    "\n",
    "    beta_windowed = np.array(beta_windowed)\n",
    "    return beta_windowed\n",
    "\n",
    "def mark_n_tail(betas, threshold = 70):\n",
    "    cut_point = None\n",
    "    for i in range(betas.shape[0]):\n",
    "        if betas[i, 1] > threshold:\n",
    "            break\n",
    "        else:\n",
    "            cut_point = betas[i, 0]\n",
    "    return cut_point\n",
    "\n",
    "def mark_c_tail(betas, threshold = 70):\n",
    "    cut_point = None\n",
    "    for i in reversed(range(betas.shape[0])):\n",
    "        if betas[i, 1] > threshold:\n",
    "            break\n",
    "        else:\n",
    "            cut_point = betas[i, 0]\n",
    "    return cut_point\n",
    "\n",
    "def clean(structure, pLDDT_df):\n",
    "    temp = dict()\n",
    "    for chain in structure.getHierView().iterChains():\n",
    "        chain.setOccupancies(1.0)\n",
    "\n",
    "        temp[f'chain_{chain.getChid()}'] = np.mean(chain.select('name CA').getBetas())\n",
    "        temp[f'chain_{chain.getChid()}_sequence'] = chain.getSequence()\n",
    "        temp[f'chain_{chain.getChid()}_len'] = len(chain.getSequence())\n",
    "\n",
    "        betas = window_betas(pLDDT_df.query(f'chain == \"{chain.getChid()}\"').sort_values(by='resnum')['pLDDT'])\n",
    "        ctail_cutpoint = mark_c_tail(betas)\n",
    "        ntail_cutpoint = mark_n_tail(betas)\n",
    "        if ctail_cutpoint is not None:\n",
    "            chain.select(f'resnum > {int(ctail_cutpoint) + 1:d}').setOccupancies(0.0)\n",
    "        if ntail_cutpoint is not None:\n",
    "            chain.select(f'resnum < {int(ntail_cutpoint) + 1:d}').setOccupancies(0.0)\n",
    "\n",
    "    structure = structure.select('occupancy > 0.0')\n",
    "    return structure, temp\n",
    "\n",
    "def build_pLDDT_df(items):\n",
    "    pdb_items = []\n",
    "    group_pLDDT = []\n",
    "    for pdb_file in items:\n",
    "        pdb = pdy.parsePDB(pdb_file)\n",
    "        \n",
    "        for chain in pdb.getHierView().iterChains():\n",
    "            for beta, resnum in zip(chain.select('name CA').getBetas(), chain.select('name CA').getResnums()):\n",
    "                group_pLDDT.append([pdb_file, beta, resnum, chain.getChid()])\n",
    "        pdb_items.append(pdb)\n",
    "    group_pLDDT = pd.DataFrame(group_pLDDT, columns=['file', 'pLDDT', 'resnum', 'chain'])\n",
    "    group_pLDDT_mean = group_pLDDT.groupby(['chain', 'resnum'], as_index=False).mean(numeric_only=True)\n",
    "    return group_pLDDT_mean, pdb_items\n",
    "\n",
    "\n",
    "def group_structures(files):\n",
    "    groups = dict()\n",
    "    for file in files:\n",
    "        parent = '_'.join(file.split('_')[:2])\n",
    "        try:\n",
    "            groups[parent].append(file.strip())\n",
    "        except:\n",
    "            groups[parent] = [file.strip()]\n",
    "    return groups\n"
   ]
  },
  {
   "cell_type": "markdown",
   "metadata": {},
   "source": [
    "We apply it here"
   ]
  },
  {
   "cell_type": "code",
   "execution_count": null,
   "metadata": {},
   "outputs": [],
   "source": [
    "stripped = []\n",
    "out = []\n",
    "for key, items in group_structures(open(upstream['02-rename-chains']['data'], 'r').readlines()).items():\n",
    "    print(key)\n",
    "    df, pdbs = build_pLDDT_df(items)\n",
    "    for pdb_file, pdb in zip(items, pdbs):\n",
    "        print(pdb_file)\n",
    "        try:\n",
    "            clean_pdb, features = clean(pdb, df)\n",
    "        except:\n",
    "            print(\"unable to clean {pdb_file}\")\n",
    "        features['id'] = pdb_file\n",
    "        pdy.writePDB(pdb_file.replace('.rechained', '.clean'), clean_pdb)\n",
    "        stripped.append(pdb_file.replace('.rechained', '.clean'))\n",
    "        out.append(features)"
   ]
  },
  {
   "cell_type": "markdown",
   "metadata": {},
   "source": [
    "The results provide the pLDDT of all the chains."
   ]
  },
  {
   "cell_type": "code",
   "execution_count": null,
   "metadata": {},
   "outputs": [],
   "source": [
    "pd.DataFrame.from_records(out).to_csv(product['data'])"
   ]
  },
  {
   "cell_type": "markdown",
   "metadata": {},
   "source": [
    "For future steps."
   ]
  },
  {
   "cell_type": "code",
   "execution_count": null,
   "metadata": {},
   "outputs": [],
   "source": [
    "with open(product['stripped'], 'w') as f:\n",
    "    f.write('\\n'.join(stripped))"
   ]
  }
 ],
 "metadata": {
  "kernelspec": {
   "display_name": "bst",
   "language": "python",
   "name": "python3"
  },
  "language_info": {
   "codemirror_mode": {
    "name": "ipython",
    "version": 3
   },
   "file_extension": ".py",
   "mimetype": "text/x-python",
   "name": "python",
   "nbconvert_exporter": "python",
   "pygments_lexer": "ipython3",
   "version": "3.9.10"
  }
 },
 "nbformat": 4,
 "nbformat_minor": 2
}
