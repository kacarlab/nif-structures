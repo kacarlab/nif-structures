{
 "cells": [
  {
   "cell_type": "code",
   "execution_count": null,
   "metadata": {
    "tags": [
     "parameters"
    ]
   },
   "outputs": [],
   "source": [
    "upstream = ['01-align']\n",
    "product = None\n",
    "reference = None"
   ]
  },
  {
   "cell_type": "markdown",
   "metadata": {},
   "source": [
    "# 02 - Rechain\n",
    "\n",
    "## Summary\n",
    "\n",
    "This notebook uses the reference defined in the pipeline to rename all the chains according to which is the closest reference chain. "
   ]
  },
  {
   "cell_type": "code",
   "execution_count": null,
   "metadata": {},
   "outputs": [],
   "source": [
    "import prody as pdy\n",
    "import numpy as np\n",
    "import json"
   ]
  },
  {
   "cell_type": "markdown",
   "metadata": {},
   "source": [
    "Reading output from the previous step."
   ]
  },
  {
   "cell_type": "code",
   "execution_count": null,
   "metadata": {},
   "outputs": [],
   "source": [
    "print(upstream)\n",
    "\n",
    "with open(upstream['01-align']['list']) as f:\n",
    "    files = list(map(lambda x: x.strip(), f.readlines()))\n",
    "files[:10]"
   ]
  },
  {
   "cell_type": "markdown",
   "metadata": {},
   "source": [
    "We use the reference to establish the new chain names. The reference structure should have a chain for every possible\n",
    "chain that might show up."
   ]
  },
  {
   "cell_type": "code",
   "execution_count": null,
   "metadata": {},
   "outputs": [],
   "source": [
    "ref = pdy.parsePDB(reference)\n",
    "ref_matrix = []\n",
    "ref_chains = []\n",
    "for chain in ref.getHierView().iterChains():\n",
    "    ref_matrix.append(pdy.calcCenter(chain))\n",
    "    ref_chains.append(chain.getChid())\n",
    "    \n",
    "\n",
    "ref_matrix = np.stack(ref_matrix)\n",
    "ref_matrix"
   ]
  },
  {
   "cell_type": "markdown",
   "metadata": {},
   "source": [
    "Rechain functon. It just assigns chains using the minimal distance argument. In principle, it should work\n",
    "as chains have been aligned in the previous step."
   ]
  },
  {
   "cell_type": "code",
   "execution_count": null,
   "metadata": {},
   "outputs": [],
   "source": [
    "def rechain(target, ref_matrix):\n",
    "    out_chains = []\n",
    "    for chain in target.iterChains():\n",
    "            \n",
    "        distances = np.linalg.norm((pdy.calcCenter(chain) - ref_matrix), axis=1)\n",
    "        if not np.any(distances < 10.0):\n",
    "            raise RuntimeError(f\"unable to find a matching chain for {f} - {chain.getChid()}\")\n",
    "            \n",
    "        min_dist = distances.argmin()\n",
    "        chain.setChid(ref_chains[min_dist])\n",
    "        out_chains.append(ref_chains[min_dist])\n",
    "    return out_chains\n"
   ]
  },
  {
   "cell_type": "markdown",
   "metadata": {},
   "source": [
    "Rechaining"
   ]
  },
  {
   "cell_type": "code",
   "execution_count": null,
   "metadata": {},
   "outputs": [],
   "source": [
    "output = open(product['data'], 'w')\n",
    "chains_out = dict()\n",
    "for f in files:\n",
    "    target = pdy.parsePDB(f'{f}')\n",
    "    # u = target.getHierView()\n",
    "\n",
    "    try:    \n",
    "        chains = rechain(target, ref_matrix)\n",
    "        basename = f.replace('.aligned.pdb', '')\n",
    "        chains_out[basename] = chains\n",
    "    except:\n",
    "        print(f\"unable to match {f}\")\n",
    "        continue\n",
    "    \n",
    "    f = f.replace('aligned.pdb', 'rechained.pdb')\n",
    "    \n",
    "    pdy.writePDB(f'{f}', target)\n",
    "    print(f'{f}', file=output)\n",
    "    \n",
    "with open(product['chains'], 'w') as f:\n",
    "    json.dump(chains_out, f)"
   ]
  }
 ],
 "metadata": {
  "kernelspec": {
   "display_name": "pymol",
   "language": "python",
   "name": "python3"
  },
  "language_info": {
   "codemirror_mode": {
    "name": "ipython",
    "version": 3
   },
   "file_extension": ".py",
   "mimetype": "text/x-python",
   "name": "python",
   "nbconvert_exporter": "python",
   "pygments_lexer": "ipython3",
   "version": "3.10.12"
  },
  "orig_nbformat": 4
 },
 "nbformat": 4,
 "nbformat_minor": 2
}
